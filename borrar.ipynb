{
 "cells": [
  {
   "cell_type": "code",
   "execution_count": 59,
   "metadata": {},
   "outputs": [],
   "source": [
    "import pandas as pd"
   ]
  },
  {
   "cell_type": "code",
   "execution_count": 60,
   "metadata": {},
   "outputs": [
    {
     "data": {
      "text/html": [
       "<div>\n",
       "<style scoped>\n",
       "    .dataframe tbody tr th:only-of-type {\n",
       "        vertical-align: middle;\n",
       "    }\n",
       "\n",
       "    .dataframe tbody tr th {\n",
       "        vertical-align: top;\n",
       "    }\n",
       "\n",
       "    .dataframe thead th {\n",
       "        text-align: right;\n",
       "    }\n",
       "</style>\n",
       "<table border=\"1\" class=\"dataframe\">\n",
       "  <thead>\n",
       "    <tr style=\"text-align: right;\">\n",
       "      <th></th>\n",
       "      <th>sexo</th>\n",
       "      <th>tipo_de_emprendimiento</th>\n",
       "      <th>idea_negocio</th>\n",
       "      <th>barrio</th>\n",
       "      <th>estrato</th>\n",
       "      <th>comuna_ciudadano</th>\n",
       "      <th>fecha_de_beneficio</th>\n",
       "      <th>monto_del_credito</th>\n",
       "      <th>línea_credito</th>\n",
       "    </tr>\n",
       "  </thead>\n",
       "  <tbody>\n",
       "    <tr>\n",
       "      <th>0</th>\n",
       "      <td>masculino</td>\n",
       "      <td>COMERCIO</td>\n",
       "      <td>charcuteria</td>\n",
       "      <td>manrique central no. 2</td>\n",
       "      <td>1</td>\n",
       "      <td>3.0</td>\n",
       "      <td>28/12/2017</td>\n",
       "      <td>7000000</td>\n",
       "      <td>microempresarial</td>\n",
       "    </tr>\n",
       "    <tr>\n",
       "      <th>1</th>\n",
       "      <td>masculino</td>\n",
       "      <td>comercio</td>\n",
       "      <td>distribuidora de</td>\n",
       "      <td>santa lucia</td>\n",
       "      <td>2</td>\n",
       "      <td>12.0</td>\n",
       "      <td>16/03/2018</td>\n",
       "      <td>$ 7,000,000.00</td>\n",
       "      <td>microempresarial</td>\n",
       "    </tr>\n",
       "    <tr>\n",
       "      <th>2</th>\n",
       "      <td>masculino</td>\n",
       "      <td>comercio</td>\n",
       "      <td>tienda</td>\n",
       "      <td>belen</td>\n",
       "      <td>3</td>\n",
       "      <td>16.0</td>\n",
       "      <td>2018/02/14</td>\n",
       "      <td>7800000</td>\n",
       "      <td>microempresarial</td>\n",
       "    </tr>\n",
       "    <tr>\n",
       "      <th>3</th>\n",
       "      <td>masculino</td>\n",
       "      <td>servicio</td>\n",
       "      <td>organización y</td>\n",
       "      <td>robledo</td>\n",
       "      <td>2</td>\n",
       "      <td>7.0</td>\n",
       "      <td>8/09/2016</td>\n",
       "      <td>1500000</td>\n",
       "      <td>microempresarial</td>\n",
       "    </tr>\n",
       "    <tr>\n",
       "      <th>4</th>\n",
       "      <td>masculino</td>\n",
       "      <td>servicio</td>\n",
       "      <td>COMIDAS RAPIDAS</td>\n",
       "      <td>20 de julio</td>\n",
       "      <td>2</td>\n",
       "      <td>13.0</td>\n",
       "      <td>20/12/2016</td>\n",
       "      <td>3000000</td>\n",
       "      <td>microempresarial</td>\n",
       "    </tr>\n",
       "  </tbody>\n",
       "</table>\n",
       "</div>"
      ],
      "text/plain": [
       "        sexo tipo_de_emprendimiento       idea_negocio  \\\n",
       "0  masculino               COMERCIO        charcuteria   \n",
       "1  masculino               comercio  distribuidora de    \n",
       "2  masculino               comercio             tienda   \n",
       "3  masculino               servicio    organización y    \n",
       "4  masculino               servicio    COMIDAS RAPIDAS   \n",
       "\n",
       "                   barrio  estrato  comuna_ciudadano fecha_de_beneficio  \\\n",
       "0  manrique central no. 2        1               3.0         28/12/2017   \n",
       "1             santa lucia        2              12.0         16/03/2018   \n",
       "2                   belen        3              16.0         2018/02/14   \n",
       "3                 robledo        2               7.0          8/09/2016   \n",
       "4             20 de julio        2              13.0         20/12/2016   \n",
       "\n",
       "  monto_del_credito     línea_credito  \n",
       "0           7000000  microempresarial  \n",
       "1    $ 7,000,000.00  microempresarial  \n",
       "2           7800000  microempresarial  \n",
       "3           1500000  microempresarial  \n",
       "4           3000000  microempresarial  "
      ]
     },
     "execution_count": 60,
     "metadata": {},
     "output_type": "execute_result"
    }
   ],
   "source": [
    "df = pd.read_csv(\"solicitudes_credito.csv\", sep=\";\")\n",
    "df.head()"
   ]
  },
  {
   "cell_type": "code",
   "execution_count": 61,
   "metadata": {},
   "outputs": [],
   "source": [
    "# df = df.drop(columns=[\"Unnamed: 0\"])"
   ]
  },
  {
   "cell_type": "code",
   "execution_count": 62,
   "metadata": {},
   "outputs": [],
   "source": [
    "df[\"sexo\"] = df[\"sexo\"].str.lower()\n",
    "df[\"tipo_de_emprendimiento\"] = df[\"tipo_de_emprendimiento\"].str.lower()\n",
    "df[\"idea_negocio\"] = df[\"idea_negocio\"].str.lower()\n",
    "df[\"barrio\"] = df[\"barrio\"].str.lower()\n",
    "df[\"línea_credito\"] = df[\"línea_credito\"].str.lower()"
   ]
  },
  {
   "cell_type": "code",
   "execution_count": 63,
   "metadata": {},
   "outputs": [],
   "source": [
    "df[\"monto_del_credito\"] = df[\"monto_del_credito\"].str.replace(\"$ \", \"\").str.replace(r\",\", \"\").astype(float).astype(int)"
   ]
  },
  {
   "cell_type": "code",
   "execution_count": 65,
   "metadata": {},
   "outputs": [],
   "source": [
    "df = df.drop_duplicates()"
   ]
  },
  {
   "cell_type": "code",
   "execution_count": 66,
   "metadata": {},
   "outputs": [
    {
     "data": {
      "text/html": [
       "<div>\n",
       "<style scoped>\n",
       "    .dataframe tbody tr th:only-of-type {\n",
       "        vertical-align: middle;\n",
       "    }\n",
       "\n",
       "    .dataframe tbody tr th {\n",
       "        vertical-align: top;\n",
       "    }\n",
       "\n",
       "    .dataframe thead th {\n",
       "        text-align: right;\n",
       "    }\n",
       "</style>\n",
       "<table border=\"1\" class=\"dataframe\">\n",
       "  <thead>\n",
       "    <tr style=\"text-align: right;\">\n",
       "      <th></th>\n",
       "      <th>sexo</th>\n",
       "      <th>tipo_de_emprendimiento</th>\n",
       "      <th>idea_negocio</th>\n",
       "      <th>barrio</th>\n",
       "      <th>estrato</th>\n",
       "      <th>comuna_ciudadano</th>\n",
       "      <th>fecha_de_beneficio</th>\n",
       "      <th>monto_del_credito</th>\n",
       "      <th>línea_credito</th>\n",
       "    </tr>\n",
       "  </thead>\n",
       "  <tbody>\n",
       "    <tr>\n",
       "      <th>0</th>\n",
       "      <td>masculino</td>\n",
       "      <td>comercio</td>\n",
       "      <td>charcuteria</td>\n",
       "      <td>manrique central no. 2</td>\n",
       "      <td>1</td>\n",
       "      <td>3.0</td>\n",
       "      <td>28/12/2017</td>\n",
       "      <td>7000000</td>\n",
       "      <td>microempresarial</td>\n",
       "    </tr>\n",
       "    <tr>\n",
       "      <th>1</th>\n",
       "      <td>masculino</td>\n",
       "      <td>comercio</td>\n",
       "      <td>distribuidora de</td>\n",
       "      <td>santa lucia</td>\n",
       "      <td>2</td>\n",
       "      <td>12.0</td>\n",
       "      <td>16/03/2018</td>\n",
       "      <td>7000000</td>\n",
       "      <td>microempresarial</td>\n",
       "    </tr>\n",
       "    <tr>\n",
       "      <th>2</th>\n",
       "      <td>masculino</td>\n",
       "      <td>comercio</td>\n",
       "      <td>tienda</td>\n",
       "      <td>belen</td>\n",
       "      <td>3</td>\n",
       "      <td>16.0</td>\n",
       "      <td>2018/02/14</td>\n",
       "      <td>7800000</td>\n",
       "      <td>microempresarial</td>\n",
       "    </tr>\n",
       "    <tr>\n",
       "      <th>3</th>\n",
       "      <td>masculino</td>\n",
       "      <td>servicio</td>\n",
       "      <td>organización y</td>\n",
       "      <td>robledo</td>\n",
       "      <td>2</td>\n",
       "      <td>7.0</td>\n",
       "      <td>8/09/2016</td>\n",
       "      <td>1500000</td>\n",
       "      <td>microempresarial</td>\n",
       "    </tr>\n",
       "    <tr>\n",
       "      <th>4</th>\n",
       "      <td>masculino</td>\n",
       "      <td>servicio</td>\n",
       "      <td>comidas rapidas</td>\n",
       "      <td>20 de julio</td>\n",
       "      <td>2</td>\n",
       "      <td>13.0</td>\n",
       "      <td>20/12/2016</td>\n",
       "      <td>3000000</td>\n",
       "      <td>microempresarial</td>\n",
       "    </tr>\n",
       "  </tbody>\n",
       "</table>\n",
       "</div>"
      ],
      "text/plain": [
       "        sexo tipo_de_emprendimiento       idea_negocio  \\\n",
       "0  masculino               comercio        charcuteria   \n",
       "1  masculino               comercio  distribuidora de    \n",
       "2  masculino               comercio             tienda   \n",
       "3  masculino               servicio    organización y    \n",
       "4  masculino               servicio    comidas rapidas   \n",
       "\n",
       "                   barrio  estrato  comuna_ciudadano fecha_de_beneficio  \\\n",
       "0  manrique central no. 2        1               3.0         28/12/2017   \n",
       "1             santa lucia        2              12.0         16/03/2018   \n",
       "2                   belen        3              16.0         2018/02/14   \n",
       "3                 robledo        2               7.0          8/09/2016   \n",
       "4             20 de julio        2              13.0         20/12/2016   \n",
       "\n",
       "   monto_del_credito     línea_credito  \n",
       "0            7000000  microempresarial  \n",
       "1            7000000  microempresarial  \n",
       "2            7800000  microempresarial  \n",
       "3            1500000  microempresarial  \n",
       "4            3000000  microempresarial  "
      ]
     },
     "execution_count": 66,
     "metadata": {},
     "output_type": "execute_result"
    }
   ],
   "source": [
    "df.head()"
   ]
  },
  {
   "cell_type": "code",
   "execution_count": 67,
   "metadata": {},
   "outputs": [
    {
     "data": {
      "text/plain": [
       "sexo\n",
       "femenino     6809\n",
       "masculino    3717\n",
       "Name: count, dtype: int64"
      ]
     },
     "execution_count": 67,
     "metadata": {},
     "output_type": "execute_result"
    }
   ],
   "source": [
    "df.sexo.value_counts()"
   ]
  }
 ],
 "metadata": {
  "kernelspec": {
   "display_name": "Python 3",
   "language": "python",
   "name": "python3"
  },
  "language_info": {
   "codemirror_mode": {
    "name": "ipython",
    "version": 3
   },
   "file_extension": ".py",
   "mimetype": "text/x-python",
   "name": "python",
   "nbconvert_exporter": "python",
   "pygments_lexer": "ipython3",
   "version": "3.12.2"
  }
 },
 "nbformat": 4,
 "nbformat_minor": 2
}
